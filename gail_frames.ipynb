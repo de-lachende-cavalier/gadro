{
 "cells": [
  {
   "cell_type": "markdown",
   "metadata": {},
   "source": [
    "# Imitation learning with GAIL"
   ]
  },
  {
   "cell_type": "code",
   "execution_count": 1,
   "metadata": {},
   "outputs": [],
   "source": [
    "import tianshou as ts \n",
    "from tianshou.utils import TensorboardLogger\n",
    "\n",
    "import gymnasium as gym\n",
    "\n",
    "import torch\n",
    "from torch import nn\n",
    "import torch.nn.functional as F\n",
    "from torch.utils.tensorboard import SummaryWriter\n",
    "\n",
    "import numpy as np\n",
    "\n",
    "import os\n",
    "from datetime import datetime"
   ]
  },
  {
   "cell_type": "code",
   "execution_count": 2,
   "metadata": {},
   "outputs": [
    {
     "name": "stderr",
     "output_type": "stream",
     "text": [
      "/Users/johndoe/Desktop/uni/affectivenatural/project/lib/python3.11/site-packages/pygame/pkgdata.py:25: DeprecationWarning: pkg_resources is deprecated as an API. See https://setuptools.pypa.io/en/latest/pkg_resources.html\n",
      "  from pkg_resources import resource_stream, resource_exists\n"
     ]
    }
   ],
   "source": [
    "from utils import compute_frame_features, compute_foa_features, get_frames_by_type, get_feature_frames\n",
    "\n",
    "from envs import FramesEnvironment, FramesTestEnvironment\n",
    "\n",
    "from policy_gail_prime import GAILPrimePolicy"
   ]
  },
  {
   "cell_type": "markdown",
   "metadata": {},
   "source": [
    "# Data and environment initialisation"
   ]
  },
  {
   "cell_type": "code",
   "execution_count": 3,
   "metadata": {},
   "outputs": [],
   "source": [
    "vid_filename = \"038\"\n",
    "mat_filename = vid_filename + \".mat\"\n",
    "target_subject = 0"
   ]
  },
  {
   "cell_type": "code",
   "execution_count": 4,
   "metadata": {},
   "outputs": [],
   "source": [
    "video_frames = get_frames_by_type(\"frames\", vid_filename)\n",
    "dynamics_frames = get_frames_by_type(\"dynamic\", vid_filename)\n",
    "patches_frames, _ = get_feature_frames(vid_filename)"
   ]
  },
  {
   "cell_type": "code",
   "execution_count": 5,
   "metadata": {},
   "outputs": [],
   "source": [
    "# need to normalise frames before feeding them into the model\n",
    "for i in range(len(video_frames)):\n",
    "    # broadcasting will do the rest...\n",
    "    video_frames[i] = video_frames[i] / 255.0\n",
    "    dynamics_frames[i] = dynamics_frames[i] / 255.0\n",
    "    patches_frames[i] = patches_frames[i] / 255.0"
   ]
  },
  {
   "cell_type": "code",
   "execution_count": 6,
   "metadata": {},
   "outputs": [],
   "source": [
    "patch_bounding_boxes_per_frame, patch_centres_per_frame, speaker_info_per_frame = compute_frame_features(\n",
    "    vid_filename\n",
    ")\n",
    "\n",
    "foa_centres_per_frame_per_subject, patch_weights_per_frame = compute_foa_features(\n",
    "    mat_filename, patch_centres_per_frame\n",
    ")\n",
    "foa_centres_per_frame = [frame[target_subject] for frame in foa_centres_per_frame_per_subject]"
   ]
  },
  {
   "cell_type": "code",
   "execution_count": 7,
   "metadata": {},
   "outputs": [],
   "source": [
    "markov_env = FramesEnvironment(\n",
    "    1,\n",
    "    video_frames,\n",
    "    dynamics_frames,\n",
    "    patches_frames,\n",
    "    patch_bounding_boxes_per_frame,\n",
    "    patch_centres_per_frame,\n",
    "    speaker_info_per_frame,\n",
    "    foa_centres_per_frame,\n",
    "    patch_weights_per_frame,\n",
    ")"
   ]
  },
  {
   "cell_type": "code",
   "execution_count": 8,
   "metadata": {},
   "outputs": [],
   "source": [
    "num_train_envs = 5\n",
    "num_test_envs = 5\n",
    "\n",
    "train_envs = ts.env.DummyVectorEnv([lambda: markov_env for _ in range(num_train_envs)])\n",
    "test_envs = ts.env.DummyVectorEnv([lambda: markov_env for _ in range(num_test_envs)])"
   ]
  },
  {
   "cell_type": "markdown",
   "metadata": {},
   "source": [
    "## Networks construction"
   ]
  },
  {
   "cell_type": "markdown",
   "metadata": {},
   "source": [
    "We will proceed as in the PPO case, but we'll need to add a further network to the mix: the discriminator network."
   ]
  },
  {
   "cell_type": "code",
   "execution_count": 9,
   "metadata": {},
   "outputs": [],
   "source": [
    "class ActorNet(nn.Module):\n",
    "    def __init__(self, observation_space, action_shape):\n",
    "        super().__init__()\n",
    "\n",
    "        self.num_patches = observation_space['patch_centres'].shape[0]\n",
    "        self.output_dim = np.prod(action_shape)\n",
    "\n",
    "        self.rgb_frame_net = nn.Sequential(\n",
    "            nn.Conv2d(3, 16, kernel_size=5, stride=2, padding=2),  # [3, 180, 320]\n",
    "            nn.ReLU(inplace=True),\n",
    "            nn.MaxPool2d(2, 2),  # [16, 45, 80]\n",
    "            nn.Conv2d(16, 32, kernel_size=5, stride=2, padding=2),\n",
    "            nn.ReLU(inplace=True),\n",
    "            nn.MaxPool2d(2, 2),  # [32, 11, 20]\n",
    "            nn.Conv2d(32, 64, kernel_size=3, stride=2, padding=1),\n",
    "            nn.ReLU(inplace=True),  # [64, 6, 10]\n",
    "            nn.Flatten(),\n",
    "            nn.Linear(64 * 6 * 10, 64),\n",
    "            nn.ReLU(inplace=True)\n",
    "        )\n",
    "\n",
    "        self.bitmap_frame_net = nn.Sequential(\n",
    "            nn.Conv2d(1, 16, kernel_size=5, stride=2, padding=2),  # [1, 180, 320]\n",
    "            nn.ReLU(inplace=True),\n",
    "            nn.MaxPool2d(2, 2),  # [16, 45, 80]\n",
    "            nn.Conv2d(16, 32, kernel_size=5, stride=2, padding=2),\n",
    "            nn.ReLU(inplace=True),\n",
    "            nn.MaxPool2d(2, 2),  # [32, 11, 20]\n",
    "            nn.Conv2d(32, 64, kernel_size=3, stride=2, padding=1),\n",
    "            nn.ReLU(inplace=True),  # [64, 6, 10]\n",
    "            nn.Flatten(),\n",
    "            nn.Linear(64 * 6 * 10, 64),\n",
    "            nn.ReLU(inplace=True)\n",
    "        )\n",
    "\n",
    "        # network for patch_centres\n",
    "        self.patch_centres_net = nn.Sequential(\n",
    "            nn.Linear(np.prod(observation_space['patch_centres'].shape), 64),\n",
    "            nn.ReLU(inplace=True),\n",
    "            nn.Linear(64, 64),\n",
    "            nn.ReLU(inplace=True)\n",
    "        )\n",
    "\n",
    "        # network for speaker_info\n",
    "        self.speaker_info_net = nn.Sequential(\n",
    "            nn.Linear(np.prod(observation_space['speaker_info'].shape), 32),\n",
    "            nn.ReLU(inplace=True),\n",
    "            nn.Linear(32, 32),\n",
    "            nn.ReLU(inplace=True)\n",
    "        )\n",
    "\n",
    "        # combining the outputs of all networks\n",
    "        self.combined_net = nn.Sequential(\n",
    "            nn.Linear(64 + 32 + 64 + 64 + 64, 128),\n",
    "            nn.ReLU(inplace=True),\n",
    "            nn.Linear(128, 128),\n",
    "            nn.ReLU(inplace=True),\n",
    "            nn.Linear(128, np.prod(action_shape), bias=False)\n",
    "        )\n",
    "\n",
    "    def forward(self, obs, state=None, info={}):\n",
    "        patch_centres = torch.tensor(obs['patch_centres'], dtype=torch.float32)\n",
    "        speaker_info = torch.tensor(obs['speaker_info'], dtype=torch.float32)\n",
    "        \n",
    "        patch_centres = patch_centres.view(patch_centres.size(0), -1)\n",
    "        speaker_info = speaker_info.view(speaker_info.size(0), -1)\n",
    "\n",
    "        video_frame = torch.tensor(obs['video_frames'], dtype=torch.float32).permute(0, 3, 1, 2)\n",
    "        dynamics_frame = torch.tensor(obs['dynamics_frames'], dtype=torch.float32).permute(0, 3, 1, 2)\n",
    "        patches_frame = torch.tensor(obs['patches_frames'], dtype=torch.float32).unsqueeze(1)\n",
    "\n",
    "        # pass through respective networks\n",
    "        patch_centres_out = self.patch_centres_net(patch_centres)\n",
    "        speaker_info_out = self.speaker_info_net(speaker_info)\n",
    "\n",
    "        video_frame_out = self.rgb_frame_net(video_frame)\n",
    "        dynamics_frame_out = self.rgb_frame_net(dynamics_frame)\n",
    "        patches_frame_out = self.bitmap_frame_net(patches_frame)\n",
    "\n",
    "        # combine outputs\n",
    "        combined = torch.cat([patch_centres_out, speaker_info_out, video_frame_out, dynamics_frame_out, patches_frame_out], dim=1)\n",
    "\n",
    "        logits = self.combined_net(combined)\n",
    "\n",
    "        return logits, state"
   ]
  },
  {
   "cell_type": "code",
   "execution_count": 10,
   "metadata": {},
   "outputs": [],
   "source": [
    "class CriticNet(nn.Module):\n",
    "    def __init__(self, observation_space):\n",
    "        super().__init__()\n",
    "\n",
    "        self.rgb_frame_net = nn.Sequential(\n",
    "            nn.Conv2d(3, 16, kernel_size=5, stride=2, padding=2),  # [3, 180, 320]\n",
    "            nn.ReLU(inplace=True),\n",
    "            nn.MaxPool2d(2, 2),  # [16, 45, 80]\n",
    "            nn.Conv2d(16, 32, kernel_size=5, stride=2, padding=2),\n",
    "            nn.ReLU(inplace=True),\n",
    "            nn.MaxPool2d(2, 2),  # [32, 11, 20]\n",
    "            nn.Conv2d(32, 64, kernel_size=3, stride=2, padding=1),\n",
    "            nn.ReLU(inplace=True),  # [64, 6, 10]\n",
    "            nn.Flatten(),\n",
    "            nn.Linear(64 * 6 * 10, 64),\n",
    "            nn.ReLU(inplace=True)\n",
    "        )\n",
    "\n",
    "        self.bitmap_frame_net = nn.Sequential(\n",
    "            nn.Conv2d(1, 16, kernel_size=5, stride=2, padding=2),  # [1, 180, 320]\n",
    "            nn.ReLU(inplace=True),\n",
    "            nn.MaxPool2d(2, 2),  # [16, 45, 80]\n",
    "            nn.Conv2d(16, 32, kernel_size=5, stride=2, padding=2),\n",
    "            nn.ReLU(inplace=True),\n",
    "            nn.MaxPool2d(2, 2),  # [32, 11, 20]\n",
    "            nn.Conv2d(32, 64, kernel_size=3, stride=2, padding=1),\n",
    "            nn.ReLU(inplace=True),  # [64, 6, 10]\n",
    "            nn.Flatten(),\n",
    "            nn.Linear(64 * 6 * 10, 64),\n",
    "            nn.ReLU(inplace=True)\n",
    "        )\n",
    "\n",
    "        # network for patch_centres\n",
    "        self.patch_centres_net = nn.Sequential(\n",
    "            nn.Linear(np.prod(observation_space['patch_centres'].shape), 64),\n",
    "            nn.ReLU(inplace=True),\n",
    "            nn.Linear(64, 64),\n",
    "            nn.ReLU(inplace=True)\n",
    "        )\n",
    "\n",
    "        # network for speaker_info\n",
    "        self.speaker_info_net = nn.Sequential(\n",
    "            nn.Linear(np.prod(observation_space['speaker_info'].shape), 32),\n",
    "            nn.ReLU(inplace=True),\n",
    "            nn.Linear(32, 32),\n",
    "            nn.ReLU(inplace=True)\n",
    "        )\n",
    "        \n",
    "        # combining the outputs of all networks\n",
    "        self.combined_net = nn.Sequential(\n",
    "            nn.Linear(64 + 32 + 64 + 64 + 64, 128),\n",
    "            nn.ReLU(inplace=True),\n",
    "            nn.Linear(128, 128),\n",
    "            nn.ReLU(inplace=True),\n",
    "            nn.Linear(128, 1, bias=False)\n",
    "        )\n",
    "\n",
    "    def forward(self, obs, state=None, info={}):\n",
    "        patch_centres = torch.tensor(obs['patch_centres'], dtype=torch.float32)\n",
    "        speaker_info = torch.tensor(obs['speaker_info'], dtype=torch.float32)\n",
    "        \n",
    "        patch_centres = patch_centres.view(patch_centres.size(0), -1)\n",
    "        speaker_info = speaker_info.view(speaker_info.size(0), -1)\n",
    "\n",
    "        video_frame = torch.tensor(obs['video_frames'], dtype=torch.float32).permute(0, 3, 1, 2)\n",
    "        dynamics_frame = torch.tensor(obs['dynamics_frames'], dtype=torch.float32).permute(0, 3, 1, 2)\n",
    "        patches_frame = torch.tensor(obs['patches_frames'], dtype=torch.float32).unsqueeze(1)\n",
    "\n",
    "        patch_centres_out = self.patch_centres_net(patch_centres)\n",
    "        speaker_info_out = self.speaker_info_net(speaker_info)\n",
    "\n",
    "        video_frame_out = self.rgb_frame_net(video_frame)\n",
    "        dynamics_frame_out = self.rgb_frame_net(dynamics_frame)\n",
    "        patches_frame_out = self.bitmap_frame_net(patches_frame)\n",
    "\n",
    "        combined = torch.cat([patch_centres_out, speaker_info_out, video_frame_out, dynamics_frame_out, patches_frame_out], dim=1)\n",
    "        state_value = self.combined_net(combined)\n",
    "\n",
    "        return state_value"
   ]
  },
  {
   "cell_type": "code",
   "execution_count": 11,
   "metadata": {},
   "outputs": [],
   "source": [
    "class DiscriminatorNet(nn.Module):\n",
    "    def __init__(self, observation_space, action_space):\n",
    "        super().__init__()\n",
    "\n",
    "        #! everything in this notebook runs on CPU, so if you want to change the device here, remember to do that for EVERY tensor and EVERY network\n",
    "        self.device = \"cpu\"\n",
    "\n",
    "        self.rgb_frame_net = nn.Sequential(\n",
    "            nn.Conv2d(3, 16, kernel_size=5, stride=2, padding=2),  # [3, 180, 320]\n",
    "            nn.ReLU(inplace=True),\n",
    "            nn.MaxPool2d(2, 2),  # [16, 45, 80]\n",
    "            nn.Conv2d(16, 32, kernel_size=5, stride=2, padding=2),\n",
    "            nn.ReLU(inplace=True),\n",
    "            nn.MaxPool2d(2, 2),  # [32, 11, 20]\n",
    "            nn.Conv2d(32, 64, kernel_size=3, stride=2, padding=1),\n",
    "            nn.ReLU(inplace=True),  # [64, 6, 10]\n",
    "            nn.Flatten(),\n",
    "            nn.Linear(64 * 6 * 10, 64),\n",
    "            nn.ReLU(inplace=True)\n",
    "        )\n",
    "\n",
    "        self.bitmap_frame_net = nn.Sequential(\n",
    "            nn.Conv2d(1, 16, kernel_size=5, stride=2, padding=2),  # [1, 180, 320]\n",
    "            nn.ReLU(inplace=True),\n",
    "            nn.MaxPool2d(2, 2),  # [16, 45, 80]\n",
    "            nn.Conv2d(16, 32, kernel_size=5, stride=2, padding=2),\n",
    "            nn.ReLU(inplace=True),\n",
    "            nn.MaxPool2d(2, 2),  # [32, 11, 20]\n",
    "            nn.Conv2d(32, 64, kernel_size=3, stride=2, padding=1),\n",
    "            nn.ReLU(inplace=True),  # [64, 6, 10]\n",
    "            nn.Flatten(),\n",
    "            nn.Linear(64 * 6 * 10, 64),\n",
    "            nn.ReLU(inplace=True)\n",
    "        )\n",
    "\n",
    "        # network for patch_centres\n",
    "        self.patch_centres_net = nn.Sequential(\n",
    "            nn.Linear(np.prod(observation_space['patch_centres'].shape), 64),\n",
    "            nn.ReLU(inplace=True),\n",
    "            nn.Linear(64, 64),\n",
    "            nn.ReLU(inplace=True)\n",
    "        )\n",
    "\n",
    "        # network for speaker_info\n",
    "        self.speaker_info_net = nn.Sequential(\n",
    "            nn.Linear(np.prod(observation_space['speaker_info'].shape), 32),\n",
    "            nn.ReLU(inplace=True),\n",
    "            nn.Linear(32, 32),\n",
    "            nn.ReLU(inplace=True)\n",
    "        )\n",
    "        \n",
    "        # combining the outputs of all networks\n",
    "        self.action_net = nn.Sequential(\n",
    "            nn.Linear(np.prod(action_space), 64),\n",
    "            nn.ReLU(inplace=True),\n",
    "            nn.Linear(64, 32),\n",
    "            nn.ReLU(inplace=True),\n",
    "            nn.Linear(32, 16)\n",
    "        )\n",
    "\n",
    "        # combining the outputs of all networks\n",
    "        self.combined_net = nn.Sequential(\n",
    "            nn.Linear(64 + 32 + 64 + 64 + 64 + 16, 128),\n",
    "            nn.ReLU(inplace=True),\n",
    "            nn.Linear(128, 128),\n",
    "            nn.ReLU(inplace=True),\n",
    "            nn.Linear(128, 1, bias=False)\n",
    "        )\n",
    "\n",
    "    def forward(self, obs, oh_action, state=None, info={}):\n",
    "        patch_centres = torch.tensor(obs['patch_centres'], dtype=torch.float32)\n",
    "        speaker_info = torch.tensor(obs['speaker_info'], dtype=torch.float32)\n",
    "        \n",
    "        patch_centres = patch_centres.view(patch_centres.size(0), -1)\n",
    "        speaker_info = speaker_info.view(speaker_info.size(0), -1)\n",
    "\n",
    "        video_frame = torch.tensor(obs['video_frames'], dtype=torch.float32).permute(0, 3, 1, 2)\n",
    "        dynamics_frame = torch.tensor(obs['dynamics_frames'], dtype=torch.float32).permute(0, 3, 1, 2)\n",
    "        patches_frame = torch.tensor(obs['patches_frames'], dtype=torch.float32).unsqueeze(1)\n",
    "\n",
    "        patch_centres_out = self.patch_centres_net(patch_centres)\n",
    "        speaker_info_out = self.speaker_info_net(speaker_info)\n",
    "\n",
    "        video_frame_out = self.rgb_frame_net(video_frame)\n",
    "        dynamics_frame_out = self.rgb_frame_net(dynamics_frame)\n",
    "        patches_frame_out = self.bitmap_frame_net(patches_frame)\n",
    "\n",
    "        action_out = self.action_net(oh_action)\n",
    "\n",
    "        combined = torch.cat([patch_centres_out, speaker_info_out, video_frame_out, dynamics_frame_out, patches_frame_out, action_out], dim=1)\n",
    "        combined_out = self.combined_net(combined)\n",
    "\n",
    "        return combined_out"
   ]
  },
  {
   "cell_type": "code",
   "execution_count": 12,
   "metadata": {},
   "outputs": [],
   "source": [
    "state_shape = markov_env.observation_space\n",
    "action_shape = markov_env.action_space.n\n",
    "\n",
    "actor_net = ActorNet(state_shape, action_shape)\n",
    "critic_net = CriticNet(state_shape)\n",
    "discriminator_net = DiscriminatorNet(state_shape, action_shape)\n",
    "\n",
    "# using a single optimizer for actor and critic simplifies the training loop and is more computationally efficient (plus it guarantees some consistency across networks)\n",
    "# BUT gradient updates in one network will influence the gradient updates in the other, and this might create unexpected problems...\n",
    "combined_params = list(actor_net.parameters()) + list(critic_net.parameters())\n",
    "optimizer = torch.optim.Adam(combined_params, lr=3e-4)\n",
    "\n",
    "disc_params = list(discriminator_net.parameters())\n",
    "disc_optimizer = torch.optim.Adam(disc_params, lr=1e-3)"
   ]
  },
  {
   "cell_type": "code",
   "execution_count": 13,
   "metadata": {},
   "outputs": [
    {
     "data": {
      "text/plain": [
       "ActorNet(\n",
       "  (rgb_frame_net): Sequential(\n",
       "    (0): Conv2d(3, 16, kernel_size=(5, 5), stride=(2, 2), padding=(2, 2))\n",
       "    (1): ReLU(inplace=True)\n",
       "    (2): MaxPool2d(kernel_size=2, stride=2, padding=0, dilation=1, ceil_mode=False)\n",
       "    (3): Conv2d(16, 32, kernel_size=(5, 5), stride=(2, 2), padding=(2, 2))\n",
       "    (4): ReLU(inplace=True)\n",
       "    (5): MaxPool2d(kernel_size=2, stride=2, padding=0, dilation=1, ceil_mode=False)\n",
       "    (6): Conv2d(32, 64, kernel_size=(3, 3), stride=(2, 2), padding=(1, 1))\n",
       "    (7): ReLU(inplace=True)\n",
       "    (8): Flatten(start_dim=1, end_dim=-1)\n",
       "    (9): Linear(in_features=3840, out_features=64, bias=True)\n",
       "    (10): ReLU(inplace=True)\n",
       "  )\n",
       "  (bitmap_frame_net): Sequential(\n",
       "    (0): Conv2d(1, 16, kernel_size=(5, 5), stride=(2, 2), padding=(2, 2))\n",
       "    (1): ReLU(inplace=True)\n",
       "    (2): MaxPool2d(kernel_size=2, stride=2, padding=0, dilation=1, ceil_mode=False)\n",
       "    (3): Conv2d(16, 32, kernel_size=(5, 5), stride=(2, 2), padding=(2, 2))\n",
       "    (4): ReLU(inplace=True)\n",
       "    (5): MaxPool2d(kernel_size=2, stride=2, padding=0, dilation=1, ceil_mode=False)\n",
       "    (6): Conv2d(32, 64, kernel_size=(3, 3), stride=(2, 2), padding=(1, 1))\n",
       "    (7): ReLU(inplace=True)\n",
       "    (8): Flatten(start_dim=1, end_dim=-1)\n",
       "    (9): Linear(in_features=3840, out_features=64, bias=True)\n",
       "    (10): ReLU(inplace=True)\n",
       "  )\n",
       "  (patch_centres_net): Sequential(\n",
       "    (0): Linear(in_features=54, out_features=64, bias=True)\n",
       "    (1): ReLU(inplace=True)\n",
       "    (2): Linear(in_features=64, out_features=64, bias=True)\n",
       "    (3): ReLU(inplace=True)\n",
       "  )\n",
       "  (speaker_info_net): Sequential(\n",
       "    (0): Linear(in_features=27, out_features=32, bias=True)\n",
       "    (1): ReLU(inplace=True)\n",
       "    (2): Linear(in_features=32, out_features=32, bias=True)\n",
       "    (3): ReLU(inplace=True)\n",
       "  )\n",
       "  (combined_net): Sequential(\n",
       "    (0): Linear(in_features=288, out_features=128, bias=True)\n",
       "    (1): ReLU(inplace=True)\n",
       "    (2): Linear(in_features=128, out_features=128, bias=True)\n",
       "    (3): ReLU(inplace=True)\n",
       "    (4): Linear(in_features=128, out_features=27, bias=False)\n",
       "  )\n",
       ")"
      ]
     },
     "execution_count": 13,
     "metadata": {},
     "output_type": "execute_result"
    }
   ],
   "source": [
    "actor_net"
   ]
  },
  {
   "cell_type": "code",
   "execution_count": 14,
   "metadata": {},
   "outputs": [
    {
     "data": {
      "text/plain": [
       "CriticNet(\n",
       "  (rgb_frame_net): Sequential(\n",
       "    (0): Conv2d(3, 16, kernel_size=(5, 5), stride=(2, 2), padding=(2, 2))\n",
       "    (1): ReLU(inplace=True)\n",
       "    (2): MaxPool2d(kernel_size=2, stride=2, padding=0, dilation=1, ceil_mode=False)\n",
       "    (3): Conv2d(16, 32, kernel_size=(5, 5), stride=(2, 2), padding=(2, 2))\n",
       "    (4): ReLU(inplace=True)\n",
       "    (5): MaxPool2d(kernel_size=2, stride=2, padding=0, dilation=1, ceil_mode=False)\n",
       "    (6): Conv2d(32, 64, kernel_size=(3, 3), stride=(2, 2), padding=(1, 1))\n",
       "    (7): ReLU(inplace=True)\n",
       "    (8): Flatten(start_dim=1, end_dim=-1)\n",
       "    (9): Linear(in_features=3840, out_features=64, bias=True)\n",
       "    (10): ReLU(inplace=True)\n",
       "  )\n",
       "  (bitmap_frame_net): Sequential(\n",
       "    (0): Conv2d(1, 16, kernel_size=(5, 5), stride=(2, 2), padding=(2, 2))\n",
       "    (1): ReLU(inplace=True)\n",
       "    (2): MaxPool2d(kernel_size=2, stride=2, padding=0, dilation=1, ceil_mode=False)\n",
       "    (3): Conv2d(16, 32, kernel_size=(5, 5), stride=(2, 2), padding=(2, 2))\n",
       "    (4): ReLU(inplace=True)\n",
       "    (5): MaxPool2d(kernel_size=2, stride=2, padding=0, dilation=1, ceil_mode=False)\n",
       "    (6): Conv2d(32, 64, kernel_size=(3, 3), stride=(2, 2), padding=(1, 1))\n",
       "    (7): ReLU(inplace=True)\n",
       "    (8): Flatten(start_dim=1, end_dim=-1)\n",
       "    (9): Linear(in_features=3840, out_features=64, bias=True)\n",
       "    (10): ReLU(inplace=True)\n",
       "  )\n",
       "  (patch_centres_net): Sequential(\n",
       "    (0): Linear(in_features=54, out_features=64, bias=True)\n",
       "    (1): ReLU(inplace=True)\n",
       "    (2): Linear(in_features=64, out_features=64, bias=True)\n",
       "    (3): ReLU(inplace=True)\n",
       "  )\n",
       "  (speaker_info_net): Sequential(\n",
       "    (0): Linear(in_features=27, out_features=32, bias=True)\n",
       "    (1): ReLU(inplace=True)\n",
       "    (2): Linear(in_features=32, out_features=32, bias=True)\n",
       "    (3): ReLU(inplace=True)\n",
       "  )\n",
       "  (combined_net): Sequential(\n",
       "    (0): Linear(in_features=288, out_features=128, bias=True)\n",
       "    (1): ReLU(inplace=True)\n",
       "    (2): Linear(in_features=128, out_features=128, bias=True)\n",
       "    (3): ReLU(inplace=True)\n",
       "    (4): Linear(in_features=128, out_features=1, bias=False)\n",
       "  )\n",
       ")"
      ]
     },
     "execution_count": 14,
     "metadata": {},
     "output_type": "execute_result"
    }
   ],
   "source": [
    "critic_net"
   ]
  },
  {
   "cell_type": "code",
   "execution_count": 15,
   "metadata": {},
   "outputs": [
    {
     "data": {
      "text/plain": [
       "DiscriminatorNet(\n",
       "  (rgb_frame_net): Sequential(\n",
       "    (0): Conv2d(3, 16, kernel_size=(5, 5), stride=(2, 2), padding=(2, 2))\n",
       "    (1): ReLU(inplace=True)\n",
       "    (2): MaxPool2d(kernel_size=2, stride=2, padding=0, dilation=1, ceil_mode=False)\n",
       "    (3): Conv2d(16, 32, kernel_size=(5, 5), stride=(2, 2), padding=(2, 2))\n",
       "    (4): ReLU(inplace=True)\n",
       "    (5): MaxPool2d(kernel_size=2, stride=2, padding=0, dilation=1, ceil_mode=False)\n",
       "    (6): Conv2d(32, 64, kernel_size=(3, 3), stride=(2, 2), padding=(1, 1))\n",
       "    (7): ReLU(inplace=True)\n",
       "    (8): Flatten(start_dim=1, end_dim=-1)\n",
       "    (9): Linear(in_features=3840, out_features=64, bias=True)\n",
       "    (10): ReLU(inplace=True)\n",
       "  )\n",
       "  (bitmap_frame_net): Sequential(\n",
       "    (0): Conv2d(1, 16, kernel_size=(5, 5), stride=(2, 2), padding=(2, 2))\n",
       "    (1): ReLU(inplace=True)\n",
       "    (2): MaxPool2d(kernel_size=2, stride=2, padding=0, dilation=1, ceil_mode=False)\n",
       "    (3): Conv2d(16, 32, kernel_size=(5, 5), stride=(2, 2), padding=(2, 2))\n",
       "    (4): ReLU(inplace=True)\n",
       "    (5): MaxPool2d(kernel_size=2, stride=2, padding=0, dilation=1, ceil_mode=False)\n",
       "    (6): Conv2d(32, 64, kernel_size=(3, 3), stride=(2, 2), padding=(1, 1))\n",
       "    (7): ReLU(inplace=True)\n",
       "    (8): Flatten(start_dim=1, end_dim=-1)\n",
       "    (9): Linear(in_features=3840, out_features=64, bias=True)\n",
       "    (10): ReLU(inplace=True)\n",
       "  )\n",
       "  (patch_centres_net): Sequential(\n",
       "    (0): Linear(in_features=54, out_features=64, bias=True)\n",
       "    (1): ReLU(inplace=True)\n",
       "    (2): Linear(in_features=64, out_features=64, bias=True)\n",
       "    (3): ReLU(inplace=True)\n",
       "  )\n",
       "  (speaker_info_net): Sequential(\n",
       "    (0): Linear(in_features=27, out_features=32, bias=True)\n",
       "    (1): ReLU(inplace=True)\n",
       "    (2): Linear(in_features=32, out_features=32, bias=True)\n",
       "    (3): ReLU(inplace=True)\n",
       "  )\n",
       "  (action_net): Sequential(\n",
       "    (0): Linear(in_features=27, out_features=64, bias=True)\n",
       "    (1): ReLU(inplace=True)\n",
       "    (2): Linear(in_features=64, out_features=32, bias=True)\n",
       "    (3): ReLU(inplace=True)\n",
       "    (4): Linear(in_features=32, out_features=16, bias=True)\n",
       "  )\n",
       "  (combined_net): Sequential(\n",
       "    (0): Linear(in_features=304, out_features=128, bias=True)\n",
       "    (1): ReLU(inplace=True)\n",
       "    (2): Linear(in_features=128, out_features=128, bias=True)\n",
       "    (3): ReLU(inplace=True)\n",
       "    (4): Linear(in_features=128, out_features=1, bias=False)\n",
       "  )\n",
       ")"
      ]
     },
     "execution_count": 15,
     "metadata": {},
     "output_type": "execute_result"
    }
   ],
   "source": [
    "discriminator_net"
   ]
  },
  {
   "cell_type": "markdown",
   "metadata": {},
   "source": [
    "## GAIL"
   ]
  },
  {
   "cell_type": "markdown",
   "metadata": {},
   "source": [
    "We'll need a buffer of expert data, which is meant to be imitated by our agent."
   ]
  },
  {
   "cell_type": "code",
   "execution_count": 16,
   "metadata": {},
   "outputs": [],
   "source": [
    "def expert_policy(info):\n",
    "    next_frame_idx = info[\"current_frame_idx\"] + 1\n",
    "    attended_centre = foa_centres_per_frame[next_frame_idx]\n",
    "\n",
    "    # always picks the correct patch\n",
    "    return np.array(patch_centres_per_frame[next_frame_idx].index(attended_centre))"
   ]
  },
  {
   "cell_type": "code",
   "execution_count": 17,
   "metadata": {},
   "outputs": [],
   "source": [
    "buffer_size = 2000 \n",
    "expert_buffer = ts.data.ReplayBuffer(size=buffer_size)\n",
    "\n",
    "obs, info = markov_env.reset()\n",
    "for _ in range(buffer_size):\n",
    "    action = expert_policy(info) \n",
    "\n",
    "    next_obs, _, terminated, truncated, next_info = markov_env.step(action)\n",
    "    \n",
    "    # the reward is not used by GAIL, but is necessary, as per Tianshou API\n",
    "    expert_buffer.add(ts.data.Batch(obs=obs, act=action, rew=0.0, obs_next=next_obs, terminated=terminated, truncated=truncated))\n",
    "    \n",
    "    if terminated:\n",
    "        # reset the environment if we terminate before filling the buffer\n",
    "        obs, info = markov_env.reset()\n",
    "    else:\n",
    "        obs, info = next_obs, next_info"
   ]
  },
  {
   "cell_type": "code",
   "execution_count": 18,
   "metadata": {},
   "outputs": [],
   "source": [
    "def dist_fn(logits: torch.Tensor):\n",
    "    return torch.distributions.Categorical(logits=logits)\n",
    "\n",
    "policy = GAILPrimePolicy(\n",
    "    actor_net, \n",
    "    critic_net, \n",
    "    optimizer,\n",
    "    dist_fn,\n",
    "    expert_buffer,\n",
    "    discriminator_net,\n",
    "    disc_optimizer,\n",
    ")"
   ]
  },
  {
   "cell_type": "code",
   "execution_count": 19,
   "metadata": {},
   "outputs": [],
   "source": [
    "train_collector = ts.data.Collector(policy, train_envs, ts.data.VectorReplayBuffer(2000, num_train_envs))\n",
    "\n",
    "test_collector = ts.data.Collector(policy, test_envs)"
   ]
  },
  {
   "cell_type": "code",
   "execution_count": 20,
   "metadata": {},
   "outputs": [],
   "source": [
    "num_epochs = 20\n",
    "num_steps_per_epoch = 1000\n",
    "\n",
    "step_per_collect = 10\n",
    "episode_per_test = 2\n",
    "batch_size = 10\n",
    "\n",
    "timestamp = datetime.now().strftime(\"%d%m%Y-%H%M%S\")\n",
    "log_path = os.path.join(\"logs\", \"gail\", \"frames\", f\"video_{vid_filename}\", f\"subject_{target_subject}\", timestamp)\n",
    "writer = SummaryWriter(log_path)\n",
    "logger = TensorboardLogger(writer)"
   ]
  },
  {
   "cell_type": "markdown",
   "metadata": {},
   "source": [
    "## Training"
   ]
  },
  {
   "cell_type": "code",
   "execution_count": 21,
   "metadata": {},
   "outputs": [
    {
     "name": "stderr",
     "output_type": "stream",
     "text": [
      "Epoch #1: 1001it [01:03, 15.72it/s, env_step=1000, len=105, loss=6.238, loss/clip=-0.000, loss/disc=1.336, loss/ent=2.972, loss/vf=12.535, n/ep=0, n/st=10, rew=6.63, stats/acc_exp=0.680, stats/acc_pi=0.515]                          \n"
     ]
    },
    {
     "name": "stdout",
     "output_type": "stream",
     "text": [
      "Epoch #1: test_reward: 48.982790 ± 32.024125, best_reward: 48.982790 ± 32.024125 in #1\n"
     ]
    },
    {
     "name": "stderr",
     "output_type": "stream",
     "text": [
      "Epoch #2: 1001it [01:02, 16.11it/s, env_step=2000, len=200, loss=5.097, loss/clip=-0.000, loss/disc=1.368, loss/ent=1.881, loss/vf=10.231, n/ep=0, n/st=10, rew=16.22, stats/acc_exp=0.545, stats/acc_pi=0.680]                          \n"
     ]
    },
    {
     "name": "stdout",
     "output_type": "stream",
     "text": [
      "Epoch #2: test_reward: 41.108053 ± 14.976943, best_reward: 48.982790 ± 32.024125 in #1\n"
     ]
    },
    {
     "name": "stderr",
     "output_type": "stream",
     "text": [
      "Epoch #3: 1001it [01:02, 16.08it/s, env_step=3000, len=200, loss=4.566, loss/clip=0.000, loss/disc=1.263, loss/ent=2.056, loss/vf=9.174, n/ep=0, n/st=10, rew=17.59, stats/acc_exp=0.550, stats/acc_pi=0.745]                           \n"
     ]
    },
    {
     "name": "stdout",
     "output_type": "stream",
     "text": [
      "Epoch #3: test_reward: 86.307233 ± 34.927462, best_reward: 86.307233 ± 34.927462 in #3\n"
     ]
    },
    {
     "name": "stderr",
     "output_type": "stream",
     "text": [
      "Epoch #4: 1001it [01:03, 15.79it/s, env_step=4000, len=200, loss=4.375, loss/clip=-0.000, loss/disc=1.284, loss/ent=2.764, loss/vf=8.805, n/ep=0, n/st=10, rew=23.27, stats/acc_exp=0.665, stats/acc_pi=0.545]                          \n"
     ]
    },
    {
     "name": "stdout",
     "output_type": "stream",
     "text": [
      "Epoch #4: test_reward: 41.253185 ± 16.721661, best_reward: 86.307233 ± 34.927462 in #3\n"
     ]
    },
    {
     "name": "stderr",
     "output_type": "stream",
     "text": [
      "Epoch #5: 1001it [01:03, 15.65it/s, env_step=5000, len=200, loss=4.560, loss/clip=-0.000, loss/disc=1.340, loss/ent=2.492, loss/vf=9.169, n/ep=0, n/st=10, rew=14.87, stats/acc_exp=0.560, stats/acc_pi=0.625]                          \n"
     ]
    },
    {
     "name": "stdout",
     "output_type": "stream",
     "text": [
      "Epoch #5: test_reward: 38.053725 ± 15.970516, best_reward: 86.307233 ± 34.927462 in #3\n"
     ]
    },
    {
     "name": "stderr",
     "output_type": "stream",
     "text": [
      "Epoch #6: 1001it [01:03, 15.78it/s, env_step=6000, len=200, loss=4.261, loss/clip=0.000, loss/disc=1.311, loss/ent=3.015, loss/vf=8.583, n/ep=0, n/st=10, rew=21.73, stats/acc_exp=0.800, stats/acc_pi=0.435]                          \n"
     ]
    },
    {
     "name": "stdout",
     "output_type": "stream",
     "text": [
      "Epoch #6: test_reward: 45.112522 ± 25.832289, best_reward: 86.307233 ± 34.927462 in #3\n"
     ]
    },
    {
     "name": "stderr",
     "output_type": "stream",
     "text": [
      "Epoch #7: 1001it [01:02, 15.91it/s, env_step=7000, len=200, loss=4.444, loss/clip=-0.000, loss/disc=1.309, loss/ent=2.452, loss/vf=8.937, n/ep=0, n/st=10, rew=14.10, stats/acc_exp=0.505, stats/acc_pi=0.715]                          \n"
     ]
    },
    {
     "name": "stdout",
     "output_type": "stream",
     "text": [
      "Epoch #7: test_reward: 35.831503 ± 13.843098, best_reward: 86.307233 ± 34.927462 in #3\n"
     ]
    },
    {
     "name": "stderr",
     "output_type": "stream",
     "text": [
      "Epoch #8: 1001it [01:04, 15.58it/s, env_step=8000, len=200, loss=3.353, loss/clip=-0.000, loss/disc=1.351, loss/ent=2.625, loss/vf=6.759, n/ep=0, n/st=10, rew=19.06, stats/acc_exp=0.610, stats/acc_pi=0.615]                          \n"
     ]
    },
    {
     "name": "stdout",
     "output_type": "stream",
     "text": [
      "Epoch #8: test_reward: 47.234467 ± 28.962157, best_reward: 86.307233 ± 34.927462 in #3\n"
     ]
    },
    {
     "name": "stderr",
     "output_type": "stream",
     "text": [
      "Epoch #9: 1001it [01:03, 15.76it/s, env_step=9000, len=200, loss=4.437, loss/clip=-0.000, loss/disc=1.284, loss/ent=2.336, loss/vf=8.922, n/ep=0, n/st=10, rew=22.12, stats/acc_exp=0.700, stats/acc_pi=0.580]                          \n"
     ]
    },
    {
     "name": "stdout",
     "output_type": "stream",
     "text": [
      "Epoch #9: test_reward: 45.031834 ± 22.188875, best_reward: 86.307233 ± 34.927462 in #3\n"
     ]
    },
    {
     "name": "stderr",
     "output_type": "stream",
     "text": [
      "Epoch #10: 1001it [01:02, 15.99it/s, env_step=10000, len=200, loss=4.524, loss/clip=0.000, loss/disc=1.261, loss/ent=2.537, loss/vf=9.098, n/ep=0, n/st=10, rew=15.00, stats/acc_exp=0.640, stats/acc_pi=0.570]                          \n"
     ]
    },
    {
     "name": "stdout",
     "output_type": "stream",
     "text": [
      "Epoch #10: test_reward: 51.224614 ± 26.468755, best_reward: 86.307233 ± 34.927462 in #3\n"
     ]
    },
    {
     "name": "stderr",
     "output_type": "stream",
     "text": [
      "Epoch #11: 1001it [01:04, 15.48it/s, env_step=11000, len=200, loss=4.010, loss/clip=0.000, loss/disc=1.250, loss/ent=2.629, loss/vf=8.073, n/ep=0, n/st=10, rew=19.41, stats/acc_exp=0.605, stats/acc_pi=0.655]                          \n"
     ]
    },
    {
     "name": "stdout",
     "output_type": "stream",
     "text": [
      "Epoch #11: test_reward: 57.513918 ± 34.053382, best_reward: 86.307233 ± 34.927462 in #3\n"
     ]
    },
    {
     "name": "stderr",
     "output_type": "stream",
     "text": [
      "Epoch #12: 1001it [01:04, 15.51it/s, env_step=12000, len=200, loss=4.899, loss/clip=-0.000, loss/disc=1.261, loss/ent=2.876, loss/vf=9.856, n/ep=0, n/st=10, rew=14.46, stats/acc_exp=0.625, stats/acc_pi=0.650]                          \n"
     ]
    },
    {
     "name": "stdout",
     "output_type": "stream",
     "text": [
      "Epoch #12: test_reward: 55.666877 ± 34.122730, best_reward: 86.307233 ± 34.927462 in #3\n"
     ]
    },
    {
     "name": "stderr",
     "output_type": "stream",
     "text": [
      "Epoch #13: 1001it [01:03, 15.81it/s, env_step=13000, len=200, loss=4.874, loss/clip=0.000, loss/disc=1.297, loss/ent=2.379, loss/vf=9.796, n/ep=0, n/st=10, rew=16.62, stats/acc_exp=0.675, stats/acc_pi=0.595]                          \n"
     ]
    },
    {
     "name": "stdout",
     "output_type": "stream",
     "text": [
      "Epoch #13: test_reward: 51.228343 ± 24.386174, best_reward: 86.307233 ± 34.927462 in #3\n"
     ]
    },
    {
     "name": "stderr",
     "output_type": "stream",
     "text": [
      "Epoch #14: 1001it [01:04, 15.52it/s, env_step=14000, len=200, loss=4.980, loss/clip=0.000, loss/disc=1.303, loss/ent=2.549, loss/vf=10.011, n/ep=0, n/st=10, rew=13.46, stats/acc_exp=0.705, stats/acc_pi=0.550]                          \n"
     ]
    },
    {
     "name": "stdout",
     "output_type": "stream",
     "text": [
      "Epoch #14: test_reward: 52.485027 ± 32.790120, best_reward: 86.307233 ± 34.927462 in #3\n"
     ]
    },
    {
     "name": "stderr",
     "output_type": "stream",
     "text": [
      "Epoch #15: 1001it [01:02, 16.09it/s, env_step=15000, len=200, loss=4.370, loss/clip=0.000, loss/disc=1.318, loss/ent=2.345, loss/vf=8.787, n/ep=0, n/st=10, rew=16.60, stats/acc_exp=0.680, stats/acc_pi=0.460]                          \n"
     ]
    },
    {
     "name": "stdout",
     "output_type": "stream",
     "text": [
      "Epoch #15: test_reward: 58.454852 ± 34.335089, best_reward: 86.307233 ± 34.927462 in #3\n"
     ]
    },
    {
     "name": "stderr",
     "output_type": "stream",
     "text": [
      "Epoch #16: 1001it [01:02, 16.01it/s, env_step=16000, len=200, loss=4.350, loss/clip=-0.000, loss/disc=1.294, loss/ent=2.263, loss/vf=8.746, n/ep=0, n/st=10, rew=17.95, stats/acc_exp=0.710, stats/acc_pi=0.595]                          \n"
     ]
    },
    {
     "name": "stdout",
     "output_type": "stream",
     "text": [
      "Epoch #16: test_reward: 64.042181 ± 41.377560, best_reward: 86.307233 ± 34.927462 in #3\n"
     ]
    },
    {
     "name": "stderr",
     "output_type": "stream",
     "text": [
      "Epoch #17: 1001it [01:04, 15.43it/s, env_step=17000, len=200, loss=4.763, loss/clip=-0.000, loss/disc=1.227, loss/ent=2.070, loss/vf=9.568, n/ep=0, n/st=10, rew=14.03, stats/acc_exp=0.695, stats/acc_pi=0.640]                          \n"
     ]
    },
    {
     "name": "stdout",
     "output_type": "stream",
     "text": [
      "Epoch #17: test_reward: 74.365170 ± 41.113986, best_reward: 86.307233 ± 34.927462 in #3\n"
     ]
    },
    {
     "name": "stderr",
     "output_type": "stream",
     "text": [
      "Epoch #18: 1001it [01:04, 15.62it/s, env_step=18000, len=200, loss=4.247, loss/clip=0.000, loss/disc=1.322, loss/ent=1.818, loss/vf=8.531, n/ep=0, n/st=10, rew=24.50, stats/acc_exp=0.650, stats/acc_pi=0.505]                          \n"
     ]
    },
    {
     "name": "stdout",
     "output_type": "stream",
     "text": [
      "Epoch #18: test_reward: 67.435053 ± 38.916334, best_reward: 86.307233 ± 34.927462 in #3\n"
     ]
    },
    {
     "name": "stderr",
     "output_type": "stream",
     "text": [
      "Epoch #19: 1001it [01:04, 15.63it/s, env_step=19000, len=200, loss=4.345, loss/clip=-0.000, loss/disc=1.235, loss/ent=2.022, loss/vf=8.731, n/ep=0, n/st=10, rew=21.82, stats/acc_exp=0.720, stats/acc_pi=0.550]                          \n"
     ]
    },
    {
     "name": "stdout",
     "output_type": "stream",
     "text": [
      "Epoch #19: test_reward: 77.715454 ± 41.328612, best_reward: 86.307233 ± 34.927462 in #3\n"
     ]
    },
    {
     "name": "stderr",
     "output_type": "stream",
     "text": [
      "Epoch #20: 1001it [01:04, 15.60it/s, env_step=20000, len=200, loss=4.410, loss/clip=0.000, loss/disc=1.257, loss/ent=2.206, loss/vf=8.864, n/ep=0, n/st=10, rew=21.29, stats/acc_exp=0.720, stats/acc_pi=0.530]                          \n"
     ]
    },
    {
     "name": "stdout",
     "output_type": "stream",
     "text": [
      "Epoch #20: test_reward: 56.836347 ± 40.389282, best_reward: 86.307233 ± 34.927462 in #3\n"
     ]
    }
   ],
   "source": [
    "result = ts.trainer.onpolicy_trainer(\n",
    "    policy, \n",
    "    train_collector, \n",
    "    test_collector,\n",
    "    repeat_per_collect=1,\n",
    "    max_epoch=num_epochs,\n",
    "    step_per_epoch=num_steps_per_epoch,\n",
    "    step_per_collect=step_per_collect,\n",
    "    episode_per_test=episode_per_test,\n",
    "    batch_size=batch_size,\n",
    "    logger=logger,\n",
    ")"
   ]
  },
  {
   "cell_type": "code",
   "execution_count": 22,
   "metadata": {},
   "outputs": [],
   "source": [
    "policy_path = os.path.join(\"weights\", \"gail\", \"frames\", f\"video_{vid_filename}\", f\"subject_{target_subject}\")\n",
    "try:\n",
    "    os.makedirs(policy_path)\n",
    "except OSError:\n",
    "    # the directory structure already exists => just move on\n",
    "    # (this case is useful for easily re-running things without annoyances)\n",
    "    pass\n",
    "\n",
    "torch.save(policy.state_dict(), os.path.join(policy_path, \"state_dict\"))"
   ]
  },
  {
   "cell_type": "code",
   "execution_count": 23,
   "metadata": {},
   "outputs": [
    {
     "data": {
      "text/plain": [
       "{'duration': '1410.76s',\n",
       " 'train_time/model': '1171.28s',\n",
       " 'test_step': 22008,\n",
       " 'test_episode': 42,\n",
       " 'test_time': '139.40s',\n",
       " 'test_speed': '157.88 step/s',\n",
       " 'best_reward': 86.30723254102486,\n",
       " 'best_result': '86.31 ± 34.93',\n",
       " 'train_step': 20000,\n",
       " 'train_episode': 40,\n",
       " 'train_time/collector': '100.08s',\n",
       " 'train_speed': '15.73 step/s'}"
      ]
     },
     "execution_count": 23,
     "metadata": {},
     "output_type": "execute_result"
    }
   ],
   "source": [
    "result"
   ]
  },
  {
   "cell_type": "markdown",
   "metadata": {},
   "source": [
    "## Testing"
   ]
  },
  {
   "cell_type": "code",
   "execution_count": 24,
   "metadata": {},
   "outputs": [
    {
     "data": {
      "text/plain": [
       "<All keys matched successfully>"
      ]
     },
     "execution_count": 24,
     "metadata": {},
     "output_type": "execute_result"
    }
   ],
   "source": [
    "# #! make sure you run all the code up to the instantiation of the models and optimizers before this cell\n",
    "policy = GAILPrimePolicy(\n",
    "    actor_net, \n",
    "    critic_net, \n",
    "    optimizer,\n",
    "    dist_fn,\n",
    "    expert_buffer,\n",
    "    discriminator_net,\n",
    "    disc_optimizer,\n",
    ")\n",
    "\n",
    "policy.load_state_dict(torch.load(os.path.join(policy_path, \"state_dict\")))"
   ]
  },
  {
   "cell_type": "code",
   "execution_count": 25,
   "metadata": {},
   "outputs": [],
   "source": [
    "test_markov_env = FramesTestEnvironment(\n",
    "    1,\n",
    "    video_frames,\n",
    "    dynamics_frames,\n",
    "    patches_frames,\n",
    "    patch_bounding_boxes_per_frame,\n",
    "    patch_centres_per_frame,\n",
    "    speaker_info_per_frame,\n",
    "    foa_centres_per_frame,\n",
    "    patch_weights_per_frame,\n",
    ")"
   ]
  },
  {
   "cell_type": "code",
   "execution_count": 26,
   "metadata": {},
   "outputs": [],
   "source": [
    "num_test_envs = 1\n",
    "\n",
    "testing_envs = ts.env.DummyVectorEnv([lambda: test_markov_env for _ in range(num_test_envs)])"
   ]
  },
  {
   "cell_type": "code",
   "execution_count": 32,
   "metadata": {},
   "outputs": [
    {
     "data": {
      "text/plain": [
       "{'n/ep': 3,\n",
       " 'n/st': 1572,\n",
       " 'rews': array([61., 56., 45.]),\n",
       " 'lens': array([524, 524, 524]),\n",
       " 'idxs': array([0, 0, 0]),\n",
       " 'rew': 54.0,\n",
       " 'len': 524.0,\n",
       " 'rew_std': 6.683312551921141,\n",
       " 'len_std': 0.0}"
      ]
     },
     "execution_count": 32,
     "metadata": {},
     "output_type": "execute_result"
    }
   ],
   "source": [
    "policy.eval()\n",
    "\n",
    "collector = ts.data.Collector(policy, testing_envs)\n",
    "# why does it return three different values, if all conditions are the same? \n",
    "# => GAIL is policy gradient + GAN, so there's more stochasticity invovled\n",
    "# (also, more training could've helped quite a bit in this case)\n",
    "collector.collect(n_episode=3)"
   ]
  },
  {
   "cell_type": "code",
   "execution_count": 28,
   "metadata": {},
   "outputs": [
    {
     "data": {
      "text/plain": [
       "19.54"
      ]
     },
     "execution_count": 28,
     "metadata": {},
     "output_type": "execute_result"
    }
   ],
   "source": [
    "np.mean(collector.collect(n_episode=100, random=True)[\"rews\"])"
   ]
  },
  {
   "cell_type": "markdown",
   "metadata": {},
   "source": [
    "### TensorBoard visualisation"
   ]
  },
  {
   "cell_type": "code",
   "execution_count": 29,
   "metadata": {},
   "outputs": [],
   "source": [
    "%load_ext tensorboard"
   ]
  },
  {
   "cell_type": "code",
   "execution_count": 30,
   "metadata": {},
   "outputs": [
    {
     "data": {
      "text/html": [
       "\n",
       "      <iframe id=\"tensorboard-frame-2e71353a79d0ad41\" width=\"100%\" height=\"800\" frameborder=\"0\">\n",
       "      </iframe>\n",
       "      <script>\n",
       "        (function() {\n",
       "          const frame = document.getElementById(\"tensorboard-frame-2e71353a79d0ad41\");\n",
       "          const url = new URL(\"/\", window.location);\n",
       "          const port = 6006;\n",
       "          if (port) {\n",
       "            url.port = port;\n",
       "          }\n",
       "          frame.src = url;\n",
       "        })();\n",
       "      </script>\n",
       "    "
      ],
      "text/plain": [
       "<IPython.core.display.HTML object>"
      ]
     },
     "metadata": {},
     "output_type": "display_data"
    }
   ],
   "source": [
    "%tensorboard --logdir logs/gail/frames"
   ]
  }
 ],
 "metadata": {
  "kernelspec": {
   "display_name": "project",
   "language": "python",
   "name": "python3"
  },
  "language_info": {
   "codemirror_mode": {
    "name": "ipython",
    "version": 3
   },
   "file_extension": ".py",
   "mimetype": "text/x-python",
   "name": "python",
   "nbconvert_exporter": "python",
   "pygments_lexer": "ipython3",
   "version": "3.11.8"
  }
 },
 "nbformat": 4,
 "nbformat_minor": 2
}
